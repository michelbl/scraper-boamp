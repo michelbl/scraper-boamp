{
 "cells": [
  {
   "cell_type": "code",
   "execution_count": 1,
   "metadata": {},
   "outputs": [],
   "source": [
    "import configparser\n",
    "import os\n",
    "\n",
    "import psycopg2"
   ]
  },
  {
   "cell_type": "code",
   "execution_count": 2,
   "metadata": {},
   "outputs": [],
   "source": [
    "#base_dir = os.path.dirname(os.path.realpath(__file__))\n",
    "base_dir = os.getcwd()  # notebook\n",
    "\n",
    "\n",
    "# Read config\n",
    "\n",
    "config = configparser.ConfigParser()\n",
    "config_path = os.path.join(base_dir, 'config.ini')\n",
    "config.read(config_path)\n",
    "database_host = config['database']['host']\n",
    "database_port = config['database']['port']\n",
    "database_name = config['database']['name']\n",
    "database_username = config['database']['username']\n",
    "database_password = config['database']['password']\n",
    "assert database_host == 'localhost'\n",
    "assert database_port == '1234'"
   ]
  },
  {
   "cell_type": "markdown",
   "metadata": {},
   "source": [
    "# Create an empty table \"boamp\""
   ]
  },
  {
   "cell_type": "code",
   "execution_count": 3,
   "metadata": {},
   "outputs": [],
   "source": [
    "# Open connection\n",
    "connection = psycopg2.connect(dbname=database_name, user=database_username, password=database_password)\n",
    "cursor = connection.cursor()"
   ]
  },
  {
   "cell_type": "code",
   "execution_count": 4,
   "metadata": {},
   "outputs": [],
   "source": [
    "table_name = 'boamp'\n",
    "cursor.execute('create table boamp ();')"
   ]
  },
  {
   "cell_type": "code",
   "execution_count": 5,
   "metadata": {},
   "outputs": [],
   "source": [
    "cursor.execute('alter table boamp add column ref text;')\n",
    "cursor.execute('alter table boamp add column html_raw text;')\n"
   ]
  },
  {
   "cell_type": "code",
   "execution_count": 6,
   "metadata": {},
   "outputs": [],
   "source": [
    "cursor.execute('create unique index on boamp (ref);')"
   ]
  },
  {
   "cell_type": "code",
   "execution_count": 7,
   "metadata": {},
   "outputs": [],
   "source": [
    "#cursor.execute('drop table boamp;')"
   ]
  },
  {
   "cell_type": "code",
   "execution_count": 8,
   "metadata": {},
   "outputs": [],
   "source": [
    "connection.commit()"
   ]
  },
  {
   "cell_type": "code",
   "execution_count": 9,
   "metadata": {},
   "outputs": [],
   "source": [
    "cursor.close()\n",
    "connection.close()"
   ]
  }
 ],
 "metadata": {
  "kernelspec": {
   "display_name": "Python 3",
   "language": "python",
   "name": "python3"
  },
  "language_info": {
   "codemirror_mode": {
    "name": "ipython",
    "version": 3
   },
   "file_extension": ".py",
   "mimetype": "text/x-python",
   "name": "python",
   "nbconvert_exporter": "python",
   "pygments_lexer": "ipython3",
   "version": "3.5.3"
  }
 },
 "nbformat": 4,
 "nbformat_minor": 2
}
