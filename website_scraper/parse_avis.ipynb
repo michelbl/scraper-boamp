{
 "cells": [
  {
   "cell_type": "code",
   "execution_count": null,
   "metadata": {},
   "outputs": [],
   "source": [
    "regex_reference = r'^Avis No ([\\d-]+)$'\n",
    "regex_publication_date = r'^publié le ([\\d/]+)$'\n",
    "regex_deadline = r'^Date limite de réponse : ([\\d/]+)$'\n",
    "regex_department = r'^Dépt. : ([\\dAB]+)$'"
   ]
  },
  {
   "cell_type": "code",
   "execution_count": null,
   "metadata": {},
   "outputs": [],
   "source": [
    "def fetch_page(original_reference):\n",
    "    url = 'http://www.boamp.fr/avis/detail/{}'.format(original_reference)\n",
    "    r = requests.get(url)\n",
    "    assert r.status_code == 200\n",
    "    print(len(r.text))\n",
    "    \n",
    "    data = {\n",
    "        'original_reference': original_reference,\n",
    "    }\n",
    "    \n",
    "    soup = BeautifulSoup(r.text, 'html.parser')\n",
    "    \n",
    "    title = soup.find_all('h1')[1].text\n",
    "    data['title'] = title\n",
    "    \n",
    "    reference = soup.find('p', class_='avis-ref').text\n",
    "    reference = re.match(regex_reference, reference).groups()[0]\n",
    "    data['reference'] = reference\n",
    "\n",
    "    publication_date = soup.find('p', class_='date-publishing').text\n",
    "    publication_date = re.match(regex_publication_date, publication_date).groups()[0]\n",
    "    publication_date = datetime.datetime.strptime(publication_date, '%d/%m/%Y').date()\n",
    "    data['publication_date'] = publication_date\n",
    "\n",
    "    deadline = soup.find('p', class_='date-response').text\n",
    "    regex_result = re.match(regex_deadline, deadline)\n",
    "    if regex_result:\n",
    "        deadline = regex_result.groups()[0]\n",
    "        deadline = datetime.datetime.strptime(deadline, '%d/%m/%Y').date()\n",
    "        data['deadline'] = deadline\n",
    "\n",
    "    department = soup.find('p', class_='avis-geo').find('span').text\n",
    "    department = re.match(regex_department, department).groups()[0]\n",
    "    data['department'] = department\n",
    "\n",
    "    buyer = list(soup.find('p', class_='avis-geo'))[1].strip()\n",
    "    data['buyer'] = buyer\n",
    "\n",
    "    avis_type = soup.find('p', class_='type-avis').find_all('span')[0].text.strip()\n",
    "    data['avis_type'] = avis_type\n",
    "\n",
    "    avis_subtype = soup.find('p', class_='type-avis').find_all('span')[1].text.strip()\n",
    "    data['avis_subtype'] = avis_subtype\n",
    "\n",
    "    for title_inline in soup.find_all('div', class_='title-inline'):\n",
    "        chunk_type = title_inline.find('h3').text.strip()\n",
    "        content = title_inline.find('p').text.strip()\n",
    "\n",
    "        if chunk_type == 'Références complètes\\xa0:':\n",
    "            data['reference_inline'] = content\n",
    "        elif chunk_type == 'Liens vers avis initiaux :':\n",
    "            data['avis_initiaux'] = content\n",
    "        else:\n",
    "            raise ValueError('Unknown chunk type \"{}\" with content \"{}\"'.format(chunk_type, content))\n",
    "            \n",
    "    details = str(soup.find('div', id='detail-avis-content'))\n",
    "    data['details'] = details\n",
    "\n",
    "    return data\n"
   ]
  },
  {
   "cell_type": "code",
   "execution_count": null,
   "metadata": {},
   "outputs": [],
   "source": []
  },
  {
   "cell_type": "code",
   "execution_count": null,
   "metadata": {},
   "outputs": [],
   "source": []
  },
  {
   "cell_type": "code",
   "execution_count": null,
   "metadata": {},
   "outputs": [],
   "source": []
  }
 ],
 "metadata": {
  "kernelspec": {
   "display_name": "Python 3",
   "language": "python",
   "name": "python3"
  },
  "language_info": {
   "codemirror_mode": {
    "name": "ipython",
    "version": 3
   },
   "file_extension": ".py",
   "mimetype": "text/x-python",
   "name": "python",
   "nbconvert_exporter": "python",
   "pygments_lexer": "ipython3",
   "version": "3.5.3"
  }
 },
 "nbformat": 4,
 "nbformat_minor": 2
}
