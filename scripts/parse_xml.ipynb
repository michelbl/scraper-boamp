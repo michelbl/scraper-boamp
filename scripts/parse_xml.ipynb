{
 "cells": [
  {
   "cell_type": "code",
   "execution_count": 35,
   "metadata": {},
   "outputs": [],
   "source": [
    "from xml.etree import ElementTree\n",
    "import collections\n",
    "import json\n",
    "\n",
    "import psycopg2\n",
    "\n",
    "from scraper_boamp.config import CONFIG_DATABASE\n",
    "\n"
   ]
  },
  {
   "cell_type": "code",
   "execution_count": 4,
   "metadata": {},
   "outputs": [],
   "source": [
    "# Open connection\n",
    "connection = psycopg2.connect(\n",
    "    dbname=CONFIG_DATABASE['name'],\n",
    "    user=CONFIG_DATABASE['username'],\n",
    "    password=CONFIG_DATABASE['password'],\n",
    ")\n",
    "cursor = connection.cursor()\n"
   ]
  },
  {
   "cell_type": "code",
   "execution_count": 12,
   "metadata": {},
   "outputs": [],
   "source": [
    "cursor.close()\n",
    "connection.close()"
   ]
  },
  {
   "cell_type": "code",
   "execution_count": 5,
   "metadata": {},
   "outputs": [],
   "source": [
    "cursor.execute(\"SELECT * FROM boamp LIMIT 1000;\")"
   ]
  },
  {
   "cell_type": "code",
   "execution_count": 7,
   "metadata": {},
   "outputs": [],
   "source": [
    "data = cursor.fetchall()"
   ]
  },
  {
   "cell_type": "code",
   "execution_count": 10,
   "metadata": {},
   "outputs": [],
   "source": [
    "avis_data = data[0]\n",
    "year, doc_type, ident, content = avis_data"
   ]
  },
  {
   "cell_type": "code",
   "execution_count": 13,
   "metadata": {},
   "outputs": [],
   "source": [
    "xml_data = ElementTree.fromstring(content)"
   ]
  },
  {
   "cell_type": "code",
   "execution_count": 90,
   "metadata": {},
   "outputs": [],
   "source": [
    "def xml2dict(element):\n",
    "    \"\"\"\n",
    "    There is no one-to-one mapping between XML and JSON, so so choices must be made.\n",
    "    \n",
    "    Here we do not keep ordering of children. Children are grouped by tag.\n",
    "    \"\"\"\n",
    "    \n",
    "    assert not element.tail\n",
    "    \n",
    "    children = collections.defaultdict(list)\n",
    "    for child in element:\n",
    "        assert child.tag != '_attributes'\n",
    "        children[child.tag].append(xml2dict(child))\n",
    "    \n",
    "    children = {\n",
    "        child_type: child_type_elements if len(child_type_elements) > 1 else child_type_elements[0]\n",
    "        for child_type, child_type_elements in children.items()\n",
    "    }\n",
    "    \n",
    "    element_text = element.text and element.text.strip()\n",
    "    \n",
    "    if (not children) and (not element.attrib):\n",
    "        return element_text\n",
    "\n",
    "    child_dict = children\n",
    "    \n",
    "    if element.attrib:\n",
    "        child_dict['_attributes'] = element.attrib\n",
    "\n",
    "    if element_text:\n",
    "        child_dict['_text'] = element_text\n",
    "    \n",
    "    if (len(child_dict) == 1) and ('_attributes' not in child_dict) and ('_text' not in child_dict):\n",
    "        key = list(child_dict)[0]\n",
    "        value = child_dict[key]\n",
    "        if not value:\n",
    "            return key\n",
    "\n",
    "    return child_dict\n"
   ]
  },
  {
   "cell_type": "code",
   "execution_count": 91,
   "metadata": {},
   "outputs": [],
   "source": [
    "dict_data = xml2dict(xml_data)"
   ]
  },
  {
   "cell_type": "code",
   "execution_count": 83,
   "metadata": {},
   "outputs": [
    {
     "data": {
      "text/plain": [
       "'Cté de Communes du Pays des Couleurs'"
      ]
     },
     "execution_count": 83,
     "metadata": {},
     "output_type": "execute_result"
    }
   ],
   "source": [
    "dict_data['DONNEES']['IDENTITE']['DENOMINATION']"
   ]
  },
  {
   "cell_type": "code",
   "execution_count": 87,
   "metadata": {},
   "outputs": [
    {
     "ename": "KeyError",
     "evalue": "'CODE_IDENT_NATIONAL'",
     "output_type": "error",
     "traceback": [
      "\u001b[0;31m----------------------------------------------------------------\u001b[0m",
      "\u001b[0;31mKeyError\u001b[0m                       Traceback (most recent call last)",
      "\u001b[0;32m<ipython-input-87-1348327bde91>\u001b[0m in \u001b[0;36m<module>\u001b[0;34m()\u001b[0m\n\u001b[0;32m----> 1\u001b[0;31m \u001b[0mdict_data\u001b[0m\u001b[0;34m[\u001b[0m\u001b[0;34m'DONNEES'\u001b[0m\u001b[0;34m]\u001b[0m\u001b[0;34m[\u001b[0m\u001b[0;34m'IDENTITE'\u001b[0m\u001b[0;34m]\u001b[0m\u001b[0;34m[\u001b[0m\u001b[0;34m'CODE_IDENT_NATIONAL'\u001b[0m\u001b[0;34m]\u001b[0m\u001b[0;34m\u001b[0m\u001b[0m\n\u001b[0m",
      "\u001b[0;31mKeyError\u001b[0m: 'CODE_IDENT_NATIONAL'"
     ]
    }
   ],
   "source": [
    "dict_data['DONNEES']['IDENTITE']['CODE_IDENT_NATIONAL']"
   ]
  },
  {
   "cell_type": "code",
   "execution_count": 84,
   "metadata": {},
   "outputs": [
    {
     "data": {
      "text/plain": [
       "'AUTOTRITE_REGIONAL'"
      ]
     },
     "execution_count": 84,
     "metadata": {},
     "output_type": "execute_result"
    }
   ],
   "source": [
    "dict_data['DONNEES']['TYPE_POUVOIR_ADJUDICATEUR']"
   ]
  },
  {
   "cell_type": "code",
   "execution_count": 85,
   "metadata": {},
   "outputs": [
    {
     "data": {
      "text/plain": [
       "{'POUVOIR_ADJUDICATEUR': 'ACT_SERV_ADM_PUB'}"
      ]
     },
     "execution_count": 85,
     "metadata": {},
     "output_type": "execute_result"
    }
   ],
   "source": [
    "dict_data['DONNEES']['ACTIVITE_PRINCIPALE']"
   ]
  },
  {
   "cell_type": "code",
   "execution_count": 86,
   "metadata": {},
   "outputs": [
    {
     "ename": "KeyError",
     "evalue": "'TYPE_ORGANISME'",
     "output_type": "error",
     "traceback": [
      "\u001b[0;31m----------------------------------------------------------------\u001b[0m",
      "\u001b[0;31mKeyError\u001b[0m                       Traceback (most recent call last)",
      "\u001b[0;32m<ipython-input-86-32c39e044cc1>\u001b[0m in \u001b[0;36m<module>\u001b[0;34m()\u001b[0m\n\u001b[0;32m----> 1\u001b[0;31m \u001b[0mdict_data\u001b[0m\u001b[0;34m[\u001b[0m\u001b[0;34m'DONNEES'\u001b[0m\u001b[0;34m]\u001b[0m\u001b[0;34m[\u001b[0m\u001b[0;34m'TYPE_ORGANISME'\u001b[0m\u001b[0;34m]\u001b[0m\u001b[0;34m\u001b[0m\u001b[0m\n\u001b[0m",
      "\u001b[0;31mKeyError\u001b[0m: 'TYPE_ORGANISME'"
     ]
    }
   ],
   "source": [
    "dict_data['DONNEES']['TYPE_ORGANISME']"
   ]
  },
  {
   "cell_type": "code",
   "execution_count": null,
   "metadata": {},
   "outputs": [],
   "source": []
  },
  {
   "cell_type": "code",
   "execution_count": 92,
   "metadata": {
    "scrolled": false
   },
   "outputs": [
    {
     "name": "stdout",
     "output_type": "stream",
     "text": [
      "{\n",
      "    \"GESTION\": {\n",
      "        \"REFERENCE\": {\n",
      "            \"IDWEB\": \"15-125217\",\n",
      "            \"TYPE_AVIS\": {\n",
      "                \"FAMILLE\": \"JOUE\",\n",
      "                \"PERIMETRE\": \"DIRECTIVE-18\",\n",
      "                \"NATURE\": \"APPEL_OFFRE\",\n",
      "                \"STATUT\": \"INITIAL\"\n",
      "            }\n",
      "        },\n",
      "        \"NOM_HTML\": \"15-125217.html\",\n",
      "        \"INDEXATION\": {\n",
      "            \"DATE_PUBLICATION\": \"2015-08-12\",\n",
      "            \"DATE_LIMITE_REPONSE\": \"2015-10-30T11:00:00+01:00\",\n",
      "            \"DATE_FIN_DIFFUSION\": \"2015-10-30\",\n",
      "            \"CLASSES\": {\n",
      "                \"CLASSE\": {\n",
      "                    \"CODE\": \"45\",\n",
      "                    \"LIBELLE\": \"Travaux de construction\"\n",
      "                }\n",
      "            },\n",
      "            \"DESCRIPTEURS\": {\n",
      "                \"DESCRIPTEUR\": [\n",
      "                    {\n",
      "                        \"CODE\": \"87\",\n",
      "                        \"LIBELLE\": \"D\\u00e9molition\"\n",
      "                    },\n",
      "                    {\n",
      "                        \"CODE\": \"265\",\n",
      "                        \"LIBELLE\": \"Piscine\"\n",
      "                    }\n",
      "                ]\n",
      "            },\n",
      "            \"DEP_PUBLICATION\": [\n",
      "                \"38\",\n",
      "                \"73\",\n",
      "                \"1\",\n",
      "                \"69\"\n",
      "            ],\n",
      "            \"DEP_PRESTATION\": \"38\",\n",
      "            \"RESUME_OBJET\": \"d\\u00e9molition d'une piscine non couverte et construction d'une piscine couverte \\u00e0 Morestel\"\n",
      "        }\n",
      "    },\n",
      "    \"DONNEES\": {\n",
      "        \"IDENTITE\": {\n",
      "            \"DENOMINATION\": \"Ct\\u00e9 de Communes du Pays des Couleurs\",\n",
      "            \"CORRESPONDANT\": \"M. le Pr\\u00e9sident\",\n",
      "            \"ADRESSE\": \"bp34574, rue Paul Claudel\",\n",
      "            \"CP\": \"38510\",\n",
      "            \"VILLE\": \"Morestel\",\n",
      "            \"URL_PROFIL_ACHETEUR\": \"http://www.marchespublicsaffiches.com\",\n",
      "            \"URL_INFORMATION\": \"http://www.marchespublicsaffiches.com\",\n",
      "            \"URL_PARTICIPATION\": \"http://www.marchespublicsaffiches.com\"\n",
      "        },\n",
      "        \"TYPE_POUVOIR_ADJUDICATEUR\": \"AUTOTRITE_REGIONAL\",\n",
      "        \"ACTIVITE_PRINCIPALE\": {\n",
      "            \"POUVOIR_ADJUDICATEUR\": \"ACT_SERV_ADM_PUB\"\n",
      "        },\n",
      "        \"OBJET\": {\n",
      "            \"TITRE_MARCHE\": \"reconstruction de la piscine de Morestel\",\n",
      "            \"OBJET_COMPLET\": \"d\\u00e9molition d'une piscine non couverte et construction d'une piscine couverteLe march\\u00e9 comporte 6 tranches conditionnelles (voir RC)\",\n",
      "            \"CPV\": {\n",
      "                \"PRINCIPAL\": \"45233162\"\n",
      "            },\n",
      "            \"LIEU_EXEC_LIVR\": {\n",
      "                \"ADRESSE\": \"rue Fran\\u00e7ois Perrin\",\n",
      "                \"CP\": \"38510\",\n",
      "                \"VILLE\": \"Morestel\",\n",
      "                \"CODE_NUTS\": \"FR714\"\n",
      "            },\n",
      "            \"AVIS_IMPLIQUE\": \"MARCHE_PUBLIC\",\n",
      "            \"VARIANTES_OUI\": null,\n",
      "            \"CARACTERISTIQUES\": {\n",
      "                \"OPTIONS\": \"NON\",\n",
      "                \"RECONDUCTIONS\": \"NON\"\n",
      "            },\n",
      "            \"DUREE_DELAI\": {\n",
      "                \"DUREE_MOIS\": \"18\"\n",
      "            },\n",
      "            \"DIV_EN_LOTS\": {\n",
      "                \"OUI\": null,\n",
      "                \"OFFRE_PLUSIEURS\": null\n",
      "            },\n",
      "            \"LOTS\": {\n",
      "                \"LOT\": [\n",
      "                    {\n",
      "                        \"NUM\": \"1\",\n",
      "                        \"INTITULE\": \"*Une d\\u00e9claration indiquant les effectifs moyens annuels du candidat et l'importance du personnel d'encadrement, pour chacune des trois derni\\u00e8res ann\\u00e9es;\",\n",
      "                        \"DESCRIPTION\": \"*Une d\\u00e9claration indiquant les effectifs moyens annuels du candidat et l'importance du personnel d'encadrement, pour chacune des trois derni\\u00e8res ann\\u00e9es;*Pr\\u00e9sentation d'une liste des travaux ex\\u00e9cut\\u00e9s au cours des cinq derni\\u00e8res ann\\u00e9es, appuy\\u00e9e d'attestations de bonne ex\\u00e9cution pour les travaux les plus importants. Ces attestations indiquent le montant, l'\\u00e9poque et le lieu d'ex\\u00e9cution des travaux et pr\\u00e9cisent s'ils ont \\u00e9t\\u00e9 effectu\\u00e9s selon les r\\u00e8gles de l'art et men\\u00e9s r\\u00e9guli\\u00e8rement \\u00e0 bonne fin;*Certificat de qualifications professionnelles. Il est pr\\u00e9cis\\u00e9 ici que la preuve de la capacit\\u00e9 du candidat peut \\u00eatre apport\\u00e9e par tout moyen, notamment par des certificats d'identit\\u00e9 professionnelle ou des r\\u00e9f\\u00e9rences de travaux attestant de la comp\\u00e9tence de l'op\\u00e9rateur \\u00e9conomique \\u00e0 r\\u00e9aliser la prestation pour laquelle il se porte candidat.\",\n",
      "                        \"CPV\": [\n",
      "                            {\n",
      "                                \"PRINCIPAL\": \"45111000\"\n",
      "                            },\n",
      "                            {\n",
      "                                \"PRINCIPAL\": \"45112500\"\n",
      "                            },\n",
      "                            {\n",
      "                                \"PRINCIPAL\": \"45223300\"\n",
      "                            },\n",
      "                            {\n",
      "                                \"PRINCIPAL\": \"45262660\"\n",
      "                            },\n",
      "                            {\n",
      "                                \"PRINCIPAL\": \"45112700\"\n",
      "                            }\n",
      "                        ],\n",
      "                        \"INFO_COMPL\": \"visite obligatoiretranche conditionnelle no 6 : d\\u00e9samiantage et purges compl\\u00e9mentaires\"\n",
      "                    },\n",
      "                    {\n",
      "                        \"NUM\": \"2\",\n",
      "                        \"INTITULE\": \"Fondations sp\\u00e9ciales - Gros oeuvre - Fa\\u00e7ades Bardages - Carrelage Fa\\u00efence\",\n",
      "                        \"DESCRIPTION\": \"Fondations sp\\u00e9ciales - Gros oeuvre - Fa\\u00e7ades Bardages - Carrelage Fa\\u00efence\",\n",
      "                        \"CPV\": [\n",
      "                            {\n",
      "                                \"PRINCIPAL\": \"45262210\"\n",
      "                            },\n",
      "                            {\n",
      "                                \"PRINCIPAL\": \"45262311\"\n",
      "                            },\n",
      "                            {\n",
      "                                \"PRINCIPAL\": \"45430000\"\n",
      "                            },\n",
      "                            {\n",
      "                                \"PRINCIPAL\": \"45443000\"\n",
      "                            }\n",
      "                        ],\n",
      "                        \"INFO_COMPL\": \"visite obligatoire\"\n",
      "                    },\n",
      "                    {\n",
      "                        \"NUM\": \"3\",\n",
      "                        \"INTITULE\": \"Charpente bois\",\n",
      "                        \"DESCRIPTION\": \"Charpente bois\",\n",
      "                        \"CPV\": {\n",
      "                            \"PRINCIPAL\": \"45261100\"\n",
      "                        },\n",
      "                        \"INFO_COMPL\": \"visite obligatoire\"\n",
      "                    },\n",
      "                    {\n",
      "                        \"NUM\": \"4\",\n",
      "                        \"INTITULE\": \"Couverture Etanche\\u00eft\\u00e9 - Toiture v\\u00e9g\\u00e9tale\",\n",
      "                        \"DESCRIPTION\": \"Couverture Etanche\\u00eft\\u00e9 - Toiture v\\u00e9g\\u00e9tale\",\n",
      "                        \"CPV\": [\n",
      "                            {\n",
      "                                \"PRINCIPAL\": \"45261213\"\n",
      "                            },\n",
      "                            {\n",
      "                                \"PRINCIPAL\": \"45261420\"\n",
      "                            }\n",
      "                        ]\n",
      "                    },\n",
      "                    {\n",
      "                        \"NUM\": \"5\",\n",
      "                        \"INTITULE\": \"Menuiseries ext\\u00e9rieures aluminium - Murs rideaux\",\n",
      "                        \"DESCRIPTION\": \"Menuiseries ext\\u00e9rieures aluminium - Murs rideaux\",\n",
      "                        \"CPV\": {\n",
      "                            \"PRINCIPAL\": \"45441000\"\n",
      "                        }\n",
      "                    },\n",
      "                    {\n",
      "                        \"NUM\": \"6\",\n",
      "                        \"INTITULE\": \"Menuiserie int\\u00e9rieure - Cloisons - Faux plafonds - Peinture - Cabines Casiers\",\n",
      "                        \"DESCRIPTION\": \"Menuiserie int\\u00e9rieure - Cloisons - Faux plafonds - Peinture - Cabines Casiers\",\n",
      "                        \"CPV\": [\n",
      "                            {\n",
      "                                \"PRINCIPAL\": \"45421000\"\n",
      "                            },\n",
      "                            {\n",
      "                                \"PRINCIPAL\": \"45421152\"\n",
      "                            },\n",
      "                            {\n",
      "                                \"PRINCIPAL\": \"45432111\"\n",
      "                            },\n",
      "                            {\n",
      "                                \"PRINCIPAL\": \"45442100\"\n",
      "                            },\n",
      "                            {\n",
      "                                \"PRINCIPAL\": \"44211110\"\n",
      "                            }\n",
      "                        ]\n",
      "                    },\n",
      "                    {\n",
      "                        \"NUM\": \"7\",\n",
      "                        \"INTITULE\": \"Serrurerie - M\\u00e9tallerie\",\n",
      "                        \"DESCRIPTION\": \"Serrurerie - M\\u00e9tallerie\",\n",
      "                        \"CPV\": [\n",
      "                            {\n",
      "                                \"PRINCIPAL\": \"45421000\"\n",
      "                            },\n",
      "                            {\n",
      "                                \"PRINCIPAL\": \"45421152\"\n",
      "                            },\n",
      "                            {\n",
      "                                \"PRINCIPAL\": \"45432111\"\n",
      "                            },\n",
      "                            {\n",
      "                                \"PRINCIPAL\": \"45442100\"\n",
      "                            },\n",
      "                            {\n",
      "                                \"PRINCIPAL\": \"44211110\"\n",
      "                            }\n",
      "                        ]\n",
      "                    },\n",
      "                    {\n",
      "                        \"NUM\": \"8\",\n",
      "                        \"INTITULE\": \"bassins inox\",\n",
      "                        \"DESCRIPTION\": \"bassins inxo\",\n",
      "                        \"CPV\": {\n",
      "                            \"PRINCIPAL\": \"45212212\"\n",
      "                        }\n",
      "                    },\n",
      "                    {\n",
      "                        \"NUM\": \"9\",\n",
      "                        \"INTITULE\": \"Traitement d'eau - Plomberie - Traitement d'air\",\n",
      "                        \"DESCRIPTION\": \"Traitement d'eau - Plomberie - Traitement d'air\",\n",
      "                        \"CPV\": [\n",
      "                            {\n",
      "                                \"PRINCIPAL\": \"45330000\"\n",
      "                            },\n",
      "                            {\n",
      "                                \"PRINCIPAL\": \"45331200\"\n",
      "                            },\n",
      "                            {\n",
      "                                \"PRINCIPAL\": \"45232430\"\n",
      "                            }\n",
      "                        ],\n",
      "                        \"INFO_COMPL\": \"tranche conditionnelle no 1 : installation d'un d\\u00e9chloraminateur\"\n",
      "                    },\n",
      "                    {\n",
      "                        \"NUM\": \"10\",\n",
      "                        \"INTITULE\": \"Courants forts - courants faibles - contr\\u00f4le d'acc\\u00e8s\",\n",
      "                        \"DESCRIPTION\": \"Courants forts - courants faibles - contr\\u00f4le d'acc\\u00e8s\",\n",
      "                        \"CPV\": {\n",
      "                            \"PRINCIPAL\": \"45317000\"\n",
      "                        },\n",
      "                        \"INFO_COMPL\": \"tranche conditionnelle 2 : installation d'une vid\\u00e9o surveillancetranche conditionnelle no3 : installation d'une vid\\u00e9o animationtranche conditionnelle no 4 : installation d'une batterie condensateur,tranche conditionnelle no 5 : installation d'un r\\u00e9tro \\u00e9clairage de l'enseigne\"\n",
      "                    }\n",
      "                ]\n",
      "            }\n",
      "        },\n",
      "        \"PROCEDURE\": {\n",
      "            \"TYPE_PROCEDURE\": \"OUVERT\",\n",
      "            \"CRITERES_ATTRIBUTION\": {\n",
      "                \"CRITERES_PONDERES\": {\n",
      "                    \"CRITERE\": [\n",
      "                        {\n",
      "                            \"_attributes\": {\n",
      "                                \"POIDS\": \"50\"\n",
      "                            },\n",
      "                            \"_text\": \"prix\"\n",
      "                        },\n",
      "                        {\n",
      "                            \"_attributes\": {\n",
      "                                \"POIDS\": \"50\"\n",
      "                            },\n",
      "                            \"_text\": \"valeur technique\"\n",
      "                        }\n",
      "                    ]\n",
      "                }\n",
      "            },\n",
      "            \"MARCHE_PERIODIQUE_NON\": null\n",
      "        },\n",
      "        \"PUBLICATION_ANTERIEURE\": \"NON\",\n",
      "        \"CONDITION_DELAI\": {\n",
      "            \"RECEPT_OFFRES\": \"2015-10-30T11:00:00+01:00\",\n",
      "            \"VALIDITE_OFFRE\": {\n",
      "                \"DUREE_JOUR\": \"90\"\n",
      "            }\n",
      "        },\n",
      "        \"CONDITION_RELATIVE_MARCHE\": {\n",
      "            \"CAUTIONNEMENT\": \"Les paiements d'acomptes sont amput\\u00e9s d'une retenue de garantie. Le montant de cette retenue est \\u00e9gal \\u00e0 5%.La retenue de garantie peut \\u00eatre remplac\\u00e9e au gr\\u00e9 du titulaire par une garantie \\u00e0 premi\\u00e8re demande.Elle est lib\\u00e9r\\u00e9e dans les conditions de l'article 103 du Code des March\\u00e9s Publics.\",\n",
      "            \"FINANCEMENT\": \"Le March\\u00e9 sera financ\\u00e9 par mobilisation des ressources propres, des emprunts et des subventions de l'Etat, de la R\\u00e9gion et du Conseil D\\u00e9partemental.Les acomptes seront amput\\u00e9s d'une retenue de garantie dans les conditions de l'article 101 du Code des March\\u00e9s Publics.Dans le cas o\\u00f9 le titulaire accepterait le versement d'une avance forfaitaire, une garantie \\u00e0 premi\\u00e8re demande du m\\u00eame montant sera exig\\u00e9e. L'avance ne sera mandat\\u00e9e qu'apr\\u00e8s constitution de la garantie.Versement d'une avance forfaitaire dans les conditions vis\\u00e9es \\u00e0 l'article 87 du Code des March\\u00e9s Publics.Prix global et forfaitaire pour l'ensemble des lots.Les Prix sont r\\u00e9visables.Le paiement des prestations sera effectu\\u00e9 par mandat administratif et virement dans les conditions pr\\u00e9vues \\u00e0 l'article 98 du Code des March\\u00e9s Publics et de ses D\\u00e9crets d'application avec un d\\u00e9lai de 30 jours maximum.\",\n",
      "            \"FORME_JURIDIQUE\": \"Les candidats peuvent pr\\u00e9senter une offre, soit en qualit\\u00e9 de candidats individuels, soit en qualit\\u00e9 de membre d'un groupement. En cas de groupement, les candidats sont avertis du fait que la forme souhait\\u00e9e par le Pouvoir adjudicateur, lors de l'attribution du March\\u00e9, est la forme solidaire.\",\n",
      "            \"AUTRES_CONDITIONS_PART_NON\": null,\n",
      "            \"LANGUES\": {\n",
      "                \"LANGUE\": \"fr\"\n",
      "            }\n",
      "        },\n",
      "        \"CONDITION_PARTICIPATION\": {\n",
      "            \"CAP_ECO\": \"Une d\\u00e9claration concernant le chiffre d'affaires global du candidat et le chiffre d'affaires concernant les travaux objet du March\\u00e9 r\\u00e9alis\\u00e9s au cours des trois derniers exercices disponibles ; *Bilan ou extrait de bilan concernant les trois derni\\u00e8res ann\\u00e9es des op\\u00e9rateurs \\u00e9conomiques pour lesquels l'\\u00e9tablissement des bilans est obligatoire en vertu de la loi ;*D\\u00e9claration appropri\\u00e9e de banques ou preuve d'une assurance pour les risques professionnels.Les attestations d'Assurance Responsabilit\\u00e9 Civile et Garantie D\\u00e9cennale seront remises par l'attributaire avant la notification du March\\u00e9, dans un d\\u00e9lai imm\\u00e9diat \\u00e0 la demande du Ma\\u00eetre de l'Ouvrage.\",\n",
      "            \"CAP_TECH\": \"*Une d\\u00e9claration indiquant les effectifs moyens annuels du candidat et l'importance du personnel d'encadrement, pour chacune des trois derni\\u00e8res ann\\u00e9es;*Pr\\u00e9sentation d'une liste des travaux ex\\u00e9cut\\u00e9s au cours des cinq derni\\u00e8res ann\\u00e9es, appuy\\u00e9e d'attestations de bonne ex\\u00e9cution pour les travaux les plus importants. Ces attestations indiquent le montant, l'\\u00e9poque et le lieu d'ex\\u00e9cution des travaux et pr\\u00e9cisent s'ils ont \\u00e9t\\u00e9 effectu\\u00e9s selon les r\\u00e8gles de l'art et men\\u00e9s r\\u00e9guli\\u00e8rement \\u00e0 bonne fin;*Certificat de qualifications professionnelles. Il est pr\\u00e9cis\\u00e9 ici que la preuve de la capacit\\u00e9 du candidat peut \\u00eatre apport\\u00e9e par tout moyen, notamment par des certificats d'identit\\u00e9 professionnelle ou des r\\u00e9f\\u00e9rences de travaux attestant de la comp\\u00e9tence de l'op\\u00e9rateur \\u00e9conomique \\u00e0 r\\u00e9aliser la prestation pour laquelle il se porte candidat.\",\n",
      "            \"CAP_TECH_NIVEAU_MINI\": \"voir r\\u00e8glement de consultation\"\n",
      "        },\n",
      "        \"CONDITION_ADMINISTRATIVE\": {\n",
      "            \"REFERENCE_MARCHE\": \"2015 piscine morestel\"\n",
      "        },\n",
      "        \"RENSEIGNEMENTS_COMPLEMENTAIRES\": {\n",
      "            \"RENS_COMPLEMENT\": \"visite obligatoire pour les lots 1, 2 et 3.visite effectu\\u00e9e sur rendez vous du lundi au jeudi.. Date d'envoi du pr\\u00e9sent avis au JOUE et au BOAMP : 11 ao\\u00fbt 2015.\",\n",
      "            \"ADRESSES_COMPLEMENTAIRES\": {\n",
      "                \"ADRESSE\": {\n",
      "                    \"TYPE\": \"INSTANCE_RECOURS\",\n",
      "                    \"DENOMINATION\": \"Tribunal administratif de Grenoble\",\n",
      "                    \"ADRESSE\": \"2, place de Verdun\",\n",
      "                    \"CP\": \"38000\",\n",
      "                    \"VILLE\": \"Grenoble\"\n",
      "                }\n",
      "            }\n",
      "        }\n",
      "    }\n",
      "}\n"
     ]
    }
   ],
   "source": [
    "print(json.dumps(dict_data, indent=4))"
   ]
  },
  {
   "cell_type": "code",
   "execution_count": null,
   "metadata": {},
   "outputs": [],
   "source": []
  }
 ],
 "metadata": {
  "kernelspec": {
   "display_name": "Python 3",
   "language": "python",
   "name": "python3"
  },
  "language_info": {
   "codemirror_mode": {
    "name": "ipython",
    "version": 3
   },
   "file_extension": ".py",
   "mimetype": "text/x-python",
   "name": "python",
   "nbconvert_exporter": "python",
   "pygments_lexer": "ipython3",
   "version": "3.6.4"
  }
 },
 "nbformat": 4,
 "nbformat_minor": 2
}
